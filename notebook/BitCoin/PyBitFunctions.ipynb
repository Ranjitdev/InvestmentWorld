{
 "cells": [
  {
   "cell_type": "code",
   "execution_count": 3,
   "id": "5d9e422b-f8d6-466b-87fd-836813c6237f",
   "metadata": {
    "tags": []
   },
   "outputs": [],
   "source": [
    "from datetime import datetime as dt\n",
    "import time\n",
    "from pybit.unified_trading import HTTP\n",
    "import pandas as pd\n",
    "import requests\n",
    "import json"
   ]
  },
  {
   "cell_type": "code",
   "execution_count": 8,
   "id": "75e26812-79b2-4277-b302-94bd75e6648a",
   "metadata": {},
   "outputs": [],
   "source": [
    "def get_datetime(DateTime: dt = None, *args, **kwargs):\n",
    "    \"\"\"\n",
    "    DateTime default option None gives current datetime as dictionary\n",
    "    DateTime validates datetime object and returns it as dictionary\n",
    "    DateTime validates year, month, day, hour=0, minute=0, second=0, microsecond=0, tzinfo=None\n",
    "    :param DateTime: datetime object:\n",
    "    :param args:\n",
    "    :param kwargs:\n",
    "    :return:\n",
    "    \"\"\"\n",
    "    date = {}\n",
    "    if args is None and kwargs is None:\n",
    "        date['day'] = int(dt.now().strftime('%d'))\n",
    "        date['month'] = int(dt.now().strftime('%m'))\n",
    "        date['year'] = int(dt.now().strftime('%Y'))\n",
    "        date['hour'] = int(dt.now().strftime('%H'))\n",
    "        date['minute'] = int(dt.now().strftime('%M'))\n",
    "        date['second'] = int(dt.now().strftime('%S'))\n",
    "        date['milsec'] = int(dt.now().strftime('%f'))\n",
    "        return date\n",
    "    elif DateTime is not None and type(DateTime) == dt:\n",
    "        date['day'] = int(DateTime.strftime('%d'))\n",
    "        date['month'] = int(DateTime.strftime('%m'))\n",
    "        date['year'] = int(DateTime.strftime('%Y'))\n",
    "        date['hour'] = int(DateTime.strftime('%H'))\n",
    "        date['minute'] = int(DateTime.strftime('%M'))\n",
    "        date['second'] = int(DateTime.strftime('%S'))\n",
    "        date['milsec'] = int(DateTime.strftime('%f'))\n",
    "        return date\n",
    "    else:\n",
    "        try:\n",
    "            if args:\n",
    "                return dt(*args)\n",
    "            elif kwargs:\n",
    "                return dt(**kwargs)\n",
    "        except:\n",
    "            return None"
   ]
  },
  {
   "cell_type": "code",
   "execution_count": 9,
   "id": "ee51f7da-a377-490d-97ce-add98aff0c45",
   "metadata": {
    "tags": []
   },
   "outputs": [
    {
     "data": {
      "text/plain": [
       "{'day': 24,\n",
       " 'month': 6,\n",
       " 'year': 2024,\n",
       " 'hour': 19,\n",
       " 'minute': 39,\n",
       " 'second': 47,\n",
       " 'milsec': 903184}"
      ]
     },
     "execution_count": 9,
     "metadata": {},
     "output_type": "execute_result"
    }
   ],
   "source": [
    "get_datetime(dt.now())"
   ]
  },
  {
   "cell_type": "code",
   "execution_count": null,
   "id": "f684e78b-9d57-47ee-a6d7-63a3c199b6b3",
   "metadata": {},
   "outputs": [],
   "source": []
  }
 ],
 "metadata": {
  "kernelspec": {
   "display_name": "Python 3 (ipykernel)",
   "language": "python",
   "name": "python3"
  },
  "language_info": {
   "codemirror_mode": {
    "name": "ipython",
    "version": 3
   },
   "file_extension": ".py",
   "mimetype": "text/x-python",
   "name": "python",
   "nbconvert_exporter": "python",
   "pygments_lexer": "ipython3",
   "version": "3.11.4"
  },
  "widgets": {
   "application/vnd.jupyter.widget-state+json": {
    "state": {},
    "version_major": 2,
    "version_minor": 0
   }
  }
 },
 "nbformat": 4,
 "nbformat_minor": 5
}
