{
 "cells": [
  {
   "cell_type": "code",
   "execution_count": 3,
   "id": "5d9e422b-f8d6-466b-87fd-836813c6237f",
   "metadata": {
    "tags": []
   },
   "outputs": [],
   "source": [
    "from datetime import datetime as dt\n",
    "import time\n",
    "from pybit.unified_trading import HTTP\n",
    "import pandas as pd\n",
    "import requests\n",
    "import json"
   ]
  },
  {
   "cell_type": "code",
   "execution_count": 9,
   "id": "ee51f7da-a377-490d-97ce-add98aff0c45",
   "metadata": {
    "tags": []
   },
   "outputs": [
    {
     "data": {
      "text/plain": [
       "{'day': 24,\n",
       " 'month': 6,\n",
       " 'year': 2024,\n",
       " 'hour': 19,\n",
       " 'minute': 39,\n",
       " 'second': 47,\n",
       " 'milsec': 903184}"
      ]
     },
     "execution_count": 9,
     "metadata": {},
     "output_type": "execute_result"
    }
   ],
   "source": [
    "get_datetime(dt.now())"
   ]
  },
  {
   "cell_type": "code",
   "execution_count": null,
   "id": "f684e78b-9d57-47ee-a6d7-63a3c199b6b3",
   "metadata": {},
   "outputs": [],
   "source": []
  }
 ],
 "metadata": {
  "kernelspec": {
   "display_name": "Python 3 (ipykernel)",
   "language": "python",
   "name": "python3"
  },
  "language_info": {
   "codemirror_mode": {
    "name": "ipython",
    "version": 3
   },
   "file_extension": ".py",
   "mimetype": "text/x-python",
   "name": "python",
   "nbconvert_exporter": "python",
   "pygments_lexer": "ipython3",
   "version": "3.11.4"
  },
  "widgets": {
   "application/vnd.jupyter.widget-state+json": {
    "state": {},
    "version_major": 2,
    "version_minor": 0
   }
  }
 },
 "nbformat": 4,
 "nbformat_minor": 5
}
