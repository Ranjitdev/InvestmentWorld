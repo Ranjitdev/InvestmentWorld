{
 "cells": [
  {
   "cell_type": "code",
   "execution_count": 9,
   "id": "5d9e422b-f8d6-466b-87fd-836813c6237f",
   "metadata": {
    "tags": []
   },
   "outputs": [],
   "source": [
    "from datetime import datetime as dt\n",
    "from datetime import timedelta\n",
    "from datetime import timedelta\n",
    "import time\n",
    "from pybit.unified_trading import HTTP\n",
    "import pandas as pd\n",
    "import requests\n",
    "import json"
   ]
  },
  {
   "cell_type": "code",
   "execution_count": 2,
   "id": "fa310bc3-e04e-49f4-a7f3-c40d0a122b0a",
   "metadata": {},
   "outputs": [],
   "source": [
    "def date_to_millis(date_time: dt=None, *args) -> int:\n",
    "    try:\n",
    "        if date_time is None and args is not None:\n",
    "            date = dt(*args)\n",
    "            date_obj = date.timestamp()\n",
    "            millis = int(date_obj * 1000)\n",
    "            return millis\n",
    "        else:\n",
    "            date_obj = date_time.timestamp()\n",
    "            millis = int(date_obj * 1000)\n",
    "            return millis\n",
    "    except Exception as e:\n",
    "        print(e)"
   ]
  },
  {
   "cell_type": "code",
   "execution_count": 3,
   "id": "c279d7d1-f2db-442f-bf5e-2f6a55ccd4cb",
   "metadata": {},
   "outputs": [],
   "source": [
    "def millis_to_date(value: int, ret_type='datetime') -> dt or str:\n",
    "    try:\n",
    "        seconds = value / 1000\n",
    "        date = dt.fromtimestamp(seconds)\n",
    "        if ret_type == 'str':\n",
    "            return date.strftime('%d/%b/%Y %H:%M:%S.%f %p')\n",
    "        elif ret_type == 'datetime':\n",
    "            return date\n",
    "    except Exception as e:\n",
    "        print(e)"
   ]
  },
  {
   "cell_type": "code",
   "execution_count": 5,
   "id": "e0c86bc8-0d1b-472b-a189-c17305f8fa8f",
   "metadata": {},
   "outputs": [],
   "source": [
    "def get_datetime(DateTime: dt = None, *args, **kwargs):\n",
    "    date = {}\n",
    "    if DateTime is None and args is None and kwargs is None:\n",
    "        date['day'] = int(dt.now().strftime('%d'))\n",
    "        date['month'] = int(dt.now().strftime('%m'))\n",
    "        date['year'] = int(dt.now().strftime('%Y'))\n",
    "        date['hour'] = int(dt.now().strftime('%H'))\n",
    "        date['minute'] = int(dt.now().strftime('%M'))\n",
    "        date['second'] = int(dt.now().strftime('%S'))\n",
    "        date['milsec'] = int(dt.now().strftime('%f'))\n",
    "        return date\n",
    "    elif DateTime is not None and type(DateTime) == dt:\n",
    "        date['day'] = int(DateTime.strftime('%d'))\n",
    "        date['month'] = int(DateTime.strftime('%m'))\n",
    "        date['year'] = int(DateTime.strftime('%Y'))\n",
    "        date['hour'] = int(DateTime.strftime('%H'))\n",
    "        date['minute'] = int(DateTime.strftime('%M'))\n",
    "        date['second'] = int(DateTime.strftime('%S'))\n",
    "        date['milsec'] = int(DateTime.strftime('%f'))\n",
    "        return date\n",
    "    else:\n",
    "        try:\n",
    "            if args:\n",
    "                return dt(*args)\n",
    "            elif kwargs:\n",
    "                return dt(**kwargs)\n",
    "        except:\n",
    "            return None"
   ]
  },
  {
   "cell_type": "code",
   "execution_count": null,
   "id": "b3f1bb41-c344-4533-a8ba-6832fff207d7",
   "metadata": {},
   "outputs": [],
   "source": []
  }
 ],
 "metadata": {
  "kernelspec": {
   "display_name": "Python 3 (ipykernel)",
   "language": "python",
   "name": "python3"
  },
  "language_info": {
   "codemirror_mode": {
    "name": "ipython",
    "version": 3
   },
   "file_extension": ".py",
   "mimetype": "text/x-python",
   "name": "python",
   "nbconvert_exporter": "python",
   "pygments_lexer": "ipython3",
   "version": "3.11.4"
  },
  "widgets": {
   "application/vnd.jupyter.widget-state+json": {
    "state": {},
    "version_major": 2,
    "version_minor": 0
   }
  }
 },
 "nbformat": 4,
 "nbformat_minor": 5
}
